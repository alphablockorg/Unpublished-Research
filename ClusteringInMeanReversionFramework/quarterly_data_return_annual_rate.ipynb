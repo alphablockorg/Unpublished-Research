{
 "cells": [
  {
   "cell_type": "code",
   "execution_count": 7,
   "id": "6d8cc113-aad4-4858-bfaf-fafc6ccebb64",
   "metadata": {},
   "outputs": [],
   "source": [
    "import matplotlib.pyplot as plt\n",
    "import matplotlib.colors as mcolors\n",
    "import pandas as pd\n",
    "\n",
    "from scipy import stats\n",
    "from dependencies import get_positive_annual_rate, get_negative_annual_rate"
   ]
  },
  {
   "cell_type": "code",
   "execution_count": 8,
   "id": "b6191abd-3587-4451-adf5-c09d5a25304b",
   "metadata": {},
   "outputs": [
    {
     "data": {
      "text/html": [
       "<div>\n",
       "<style scoped>\n",
       "    .dataframe tbody tr th:only-of-type {\n",
       "        vertical-align: middle;\n",
       "    }\n",
       "\n",
       "    .dataframe tbody tr th {\n",
       "        vertical-align: top;\n",
       "    }\n",
       "\n",
       "    .dataframe thead th {\n",
       "        text-align: right;\n",
       "    }\n",
       "</style>\n",
       "<table border=\"1\" class=\"dataframe\">\n",
       "  <thead>\n",
       "    <tr style=\"text-align: right;\">\n",
       "      <th></th>\n",
       "      <th>Stock</th>\n",
       "      <th>Year</th>\n",
       "      <th>Quarter</th>\n",
       "      <th>Quarterly_Return</th>\n",
       "      <th>Relative_Percentile</th>\n",
       "    </tr>\n",
       "  </thead>\n",
       "  <tbody>\n",
       "    <tr>\n",
       "      <th>0</th>\n",
       "      <td>APA</td>\n",
       "      <td>2000</td>\n",
       "      <td>1</td>\n",
       "      <td>45.787552</td>\n",
       "      <td>100.000000</td>\n",
       "    </tr>\n",
       "    <tr>\n",
       "      <th>1</th>\n",
       "      <td>MTCH</td>\n",
       "      <td>2000</td>\n",
       "      <td>1</td>\n",
       "      <td>-17.011491</td>\n",
       "      <td>28.571429</td>\n",
       "    </tr>\n",
       "    <tr>\n",
       "      <th>2</th>\n",
       "      <td>GEN</td>\n",
       "      <td>2000</td>\n",
       "      <td>1</td>\n",
       "      <td>32.087912</td>\n",
       "      <td>90.476190</td>\n",
       "    </tr>\n",
       "    <tr>\n",
       "      <th>3</th>\n",
       "      <td>DXC</td>\n",
       "      <td>2000</td>\n",
       "      <td>1</td>\n",
       "      <td>-15.147456</td>\n",
       "      <td>33.333333</td>\n",
       "    </tr>\n",
       "    <tr>\n",
       "      <th>4</th>\n",
       "      <td>EG</td>\n",
       "      <td>2000</td>\n",
       "      <td>1</td>\n",
       "      <td>49.142857</td>\n",
       "      <td>100.000000</td>\n",
       "    </tr>\n",
       "  </tbody>\n",
       "</table>\n",
       "</div>"
      ],
      "text/plain": [
       "  Stock  Year  Quarter  Quarterly_Return  Relative_Percentile\n",
       "0   APA  2000        1         45.787552           100.000000\n",
       "1  MTCH  2000        1        -17.011491            28.571429\n",
       "2   GEN  2000        1         32.087912            90.476190\n",
       "3   DXC  2000        1        -15.147456            33.333333\n",
       "4    EG  2000        1         49.142857           100.000000"
      ]
     },
     "execution_count": 8,
     "metadata": {},
     "output_type": "execute_result"
    }
   ],
   "source": [
    "data_frame = pd.read_csv('datasets/quartely_data_return.csv')\n",
    "data_frame = data_frame.dropna(axis=1)\n",
    "\n",
    "data_frame.head()"
   ]
  },
  {
   "cell_type": "code",
   "execution_count": 9,
   "id": "4bf16e6f-6eb7-4b1e-ac70-d0f653cba8c5",
   "metadata": {},
   "outputs": [],
   "source": [
    "data_frame['Annual_Rate'] = data_frame['Quarterly_Return'].apply(\n",
    "    lambda x: get_positive_annual_rate(x, 1/4) if x > 0 else get_negative_annual_rate(x, 1/4)\n",
    ")\n",
    "\n",
    "data_frame.head()\n",
    "data_frame.to_csv('datasets/annual_rates/quarterly_annual_rate_data.csv', index=False) "
   ]
  },
  {
   "cell_type": "code",
   "execution_count": null,
   "id": "18391f80-c853-43fc-90b7-156f2e506e68",
   "metadata": {},
   "outputs": [],
   "source": []
  }
 ],
 "metadata": {
  "kernelspec": {
   "display_name": "Python 3 (ipykernel)",
   "language": "python",
   "name": "python3"
  },
  "language_info": {
   "codemirror_mode": {
    "name": "ipython",
    "version": 3
   },
   "file_extension": ".py",
   "mimetype": "text/x-python",
   "name": "python",
   "nbconvert_exporter": "python",
   "pygments_lexer": "ipython3",
   "version": "3.9.9"
  }
 },
 "nbformat": 4,
 "nbformat_minor": 5
}
