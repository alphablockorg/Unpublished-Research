{
 "cells": [
  {
   "cell_type": "code",
   "execution_count": 7,
   "id": "c2e3b028-f4db-4df0-92bb-c81c4f9da507",
   "metadata": {},
   "outputs": [],
   "source": [
    "import matplotlib.pyplot as plt\n",
    "import matplotlib.colors as mcolors\n",
    "import pandas as pd\n",
    "\n",
    "from scipy import stats\n",
    "from dependencies import get_positive_annual_rate, get_negative_annual_rate"
   ]
  },
  {
   "cell_type": "code",
   "execution_count": 8,
   "id": "b2cf5753-ba7f-4e82-8648-813e1cf4a7b4",
   "metadata": {},
   "outputs": [
    {
     "data": {
      "text/html": [
       "<div>\n",
       "<style scoped>\n",
       "    .dataframe tbody tr th:only-of-type {\n",
       "        vertical-align: middle;\n",
       "    }\n",
       "\n",
       "    .dataframe tbody tr th {\n",
       "        vertical-align: top;\n",
       "    }\n",
       "\n",
       "    .dataframe thead th {\n",
       "        text-align: right;\n",
       "    }\n",
       "</style>\n",
       "<table border=\"1\" class=\"dataframe\">\n",
       "  <thead>\n",
       "    <tr style=\"text-align: right;\">\n",
       "      <th></th>\n",
       "      <th>Stock</th>\n",
       "      <th>Year</th>\n",
       "      <th>Quarter</th>\n",
       "      <th>Rolling_Return</th>\n",
       "      <th>Relative_Percentile</th>\n",
       "    </tr>\n",
       "  </thead>\n",
       "  <tbody>\n",
       "    <tr>\n",
       "      <th>0</th>\n",
       "      <td>APA</td>\n",
       "      <td>2000</td>\n",
       "      <td>1</td>\n",
       "      <td>350.221560</td>\n",
       "      <td>86.611711</td>\n",
       "    </tr>\n",
       "    <tr>\n",
       "      <th>1</th>\n",
       "      <td>MTCH</td>\n",
       "      <td>2000</td>\n",
       "      <td>1</td>\n",
       "      <td>23.012417</td>\n",
       "      <td>91.188175</td>\n",
       "    </tr>\n",
       "    <tr>\n",
       "      <th>2</th>\n",
       "      <td>GEN</td>\n",
       "      <td>2000</td>\n",
       "      <td>1</td>\n",
       "      <td>193.274725</td>\n",
       "      <td>77.174531</td>\n",
       "    </tr>\n",
       "    <tr>\n",
       "      <th>3</th>\n",
       "      <td>DXC</td>\n",
       "      <td>2000</td>\n",
       "      <td>1</td>\n",
       "      <td>-42.766757</td>\n",
       "      <td>73.479250</td>\n",
       "    </tr>\n",
       "    <tr>\n",
       "      <th>4</th>\n",
       "      <td>EG</td>\n",
       "      <td>2000</td>\n",
       "      <td>1</td>\n",
       "      <td>348.502862</td>\n",
       "      <td>92.268334</td>\n",
       "    </tr>\n",
       "  </tbody>\n",
       "</table>\n",
       "</div>"
      ],
      "text/plain": [
       "  Stock  Year  Quarter  Rolling_Return  Relative_Percentile\n",
       "0   APA  2000        1      350.221560            86.611711\n",
       "1  MTCH  2000        1       23.012417            91.188175\n",
       "2   GEN  2000        1      193.274725            77.174531\n",
       "3   DXC  2000        1      -42.766757            73.479250\n",
       "4    EG  2000        1      348.502862            92.268334"
      ]
     },
     "execution_count": 8,
     "metadata": {},
     "output_type": "execute_result"
    }
   ],
   "source": [
    "data_frame = pd.read_csv('datasets/seven_years_data_return.csv')\n",
    "data_frame = data_frame.dropna(axis=1)\n",
    "\n",
    "data_frame.head()"
   ]
  },
  {
   "cell_type": "code",
   "execution_count": 9,
   "id": "5e35babf-7549-4f02-bb8f-255374f3d5f3",
   "metadata": {},
   "outputs": [],
   "source": [
    "data_frame['Annual_Rate'] = data_frame['Rolling_Return'].apply(\n",
    "    lambda x: get_positive_annual_rate(x, 10) if x > 0 else get_negative_annual_rate(x, 10)\n",
    ")\n",
    "\n",
    "data_frame.head()\n",
    "data_frame.to_csv('datasets/annual_rates/ten_years_annual_rate_data.csv', index=False) "
   ]
  },
  {
   "cell_type": "code",
   "execution_count": null,
   "id": "6d22733b-e0b2-4a57-ad6f-921f6104243f",
   "metadata": {},
   "outputs": [],
   "source": []
  }
 ],
 "metadata": {
  "kernelspec": {
   "display_name": "Python 3 (ipykernel)",
   "language": "python",
   "name": "python3"
  },
  "language_info": {
   "codemirror_mode": {
    "name": "ipython",
    "version": 3
   },
   "file_extension": ".py",
   "mimetype": "text/x-python",
   "name": "python",
   "nbconvert_exporter": "python",
   "pygments_lexer": "ipython3",
   "version": "3.9.9"
  }
 },
 "nbformat": 4,
 "nbformat_minor": 5
}
