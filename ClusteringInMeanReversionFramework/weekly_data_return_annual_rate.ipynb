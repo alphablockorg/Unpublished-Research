{
 "cells": [
  {
   "cell_type": "code",
   "execution_count": 10,
   "id": "bbf9a7a7-bbd3-4e7a-9712-50fc5c0d5cb0",
   "metadata": {},
   "outputs": [],
   "source": [
    "import matplotlib.pyplot as plt\n",
    "import matplotlib.colors as mcolors\n",
    "import pandas as pd\n",
    "\n",
    "from scipy import stats\n",
    "from dependencies import get_positive_annual_rate, get_negative_annual_rate"
   ]
  },
  {
   "cell_type": "code",
   "execution_count": 11,
   "id": "9e3a6459-98b3-413f-b7f8-253e295afde6",
   "metadata": {},
   "outputs": [
    {
     "data": {
      "text/html": [
       "<div>\n",
       "<style scoped>\n",
       "    .dataframe tbody tr th:only-of-type {\n",
       "        vertical-align: middle;\n",
       "    }\n",
       "\n",
       "    .dataframe tbody tr th {\n",
       "        vertical-align: top;\n",
       "    }\n",
       "\n",
       "    .dataframe thead th {\n",
       "        text-align: right;\n",
       "    }\n",
       "</style>\n",
       "<table border=\"1\" class=\"dataframe\">\n",
       "  <thead>\n",
       "    <tr style=\"text-align: right;\">\n",
       "      <th></th>\n",
       "      <th>Stock</th>\n",
       "      <th>Year</th>\n",
       "      <th>Week</th>\n",
       "      <th>Weekly_Return</th>\n",
       "      <th>Relative_Percentile</th>\n",
       "    </tr>\n",
       "  </thead>\n",
       "  <tbody>\n",
       "    <tr>\n",
       "      <th>0</th>\n",
       "      <td>APA</td>\n",
       "      <td>2000</td>\n",
       "      <td>1</td>\n",
       "      <td>7.326007</td>\n",
       "      <td>80.0</td>\n",
       "    </tr>\n",
       "    <tr>\n",
       "      <th>1</th>\n",
       "      <td>MTCH</td>\n",
       "      <td>2000</td>\n",
       "      <td>1</td>\n",
       "      <td>-8.275862</td>\n",
       "      <td>40.0</td>\n",
       "    </tr>\n",
       "    <tr>\n",
       "      <th>2</th>\n",
       "      <td>GEN</td>\n",
       "      <td>2000</td>\n",
       "      <td>1</td>\n",
       "      <td>-8.791209</td>\n",
       "      <td>60.0</td>\n",
       "    </tr>\n",
       "    <tr>\n",
       "      <th>3</th>\n",
       "      <td>DXC</td>\n",
       "      <td>2000</td>\n",
       "      <td>1</td>\n",
       "      <td>-6.501339</td>\n",
       "      <td>40.0</td>\n",
       "    </tr>\n",
       "    <tr>\n",
       "      <th>4</th>\n",
       "      <td>EG</td>\n",
       "      <td>2000</td>\n",
       "      <td>1</td>\n",
       "      <td>17.142857</td>\n",
       "      <td>100.0</td>\n",
       "    </tr>\n",
       "  </tbody>\n",
       "</table>\n",
       "</div>"
      ],
      "text/plain": [
       "  Stock  Year  Week  Weekly_Return  Relative_Percentile\n",
       "0   APA  2000     1       7.326007                 80.0\n",
       "1  MTCH  2000     1      -8.275862                 40.0\n",
       "2   GEN  2000     1      -8.791209                 60.0\n",
       "3   DXC  2000     1      -6.501339                 40.0\n",
       "4    EG  2000     1      17.142857                100.0"
      ]
     },
     "execution_count": 11,
     "metadata": {},
     "output_type": "execute_result"
    }
   ],
   "source": [
    "data_frame = pd.read_csv('datasets/weekly_data_return.csv')\n",
    "data_frame = data_frame.dropna(axis=1)\n",
    "\n",
    "data_frame.head()"
   ]
  },
  {
   "cell_type": "code",
   "execution_count": 12,
   "id": "0aa5c6a1-1211-4b50-a559-002099b4c4b3",
   "metadata": {},
   "outputs": [],
   "source": [
    "data_frame['Annual_Rate'] = data_frame['Weekly_Return'].apply(\n",
    "    lambda x: get_positive_annual_rate(x, 1/52) if x > 0 else get_negative_annual_rate(x, 1/52)\n",
    ")\n",
    "\n",
    "data_frame.head()\n",
    "data_frame.to_csv('datasets/annual_rates/weekly_annual_rate_data.csv', index=False)"
   ]
  },
  {
   "cell_type": "code",
   "execution_count": null,
   "id": "f28fe0ec-9f44-4489-b8ea-f38f553af096",
   "metadata": {},
   "outputs": [],
   "source": []
  }
 ],
 "metadata": {
  "kernelspec": {
   "display_name": "Python 3 (ipykernel)",
   "language": "python",
   "name": "python3"
  },
  "language_info": {
   "codemirror_mode": {
    "name": "ipython",
    "version": 3
   },
   "file_extension": ".py",
   "mimetype": "text/x-python",
   "name": "python",
   "nbconvert_exporter": "python",
   "pygments_lexer": "ipython3",
   "version": "3.9.9"
  }
 },
 "nbformat": 4,
 "nbformat_minor": 5
}
