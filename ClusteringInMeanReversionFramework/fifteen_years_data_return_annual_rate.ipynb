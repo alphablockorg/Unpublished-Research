{
 "cells": [
  {
   "cell_type": "code",
   "execution_count": 9,
   "id": "c5dacfb8-faa8-4141-9c6d-cd833504885e",
   "metadata": {},
   "outputs": [],
   "source": [
    "import matplotlib.pyplot as plt\n",
    "import matplotlib.colors as mcolors\n",
    "import pandas as pd\n",
    "\n",
    "from scipy import stats\n",
    "from dependencies import get_positive_annual_rate, get_negative_annual_rate"
   ]
  },
  {
   "cell_type": "code",
   "execution_count": 10,
   "id": "84379482-8284-4f61-a76a-424a5f4c9ed6",
   "metadata": {},
   "outputs": [
    {
     "data": {
      "text/html": [
       "<div>\n",
       "<style scoped>\n",
       "    .dataframe tbody tr th:only-of-type {\n",
       "        vertical-align: middle;\n",
       "    }\n",
       "\n",
       "    .dataframe tbody tr th {\n",
       "        vertical-align: top;\n",
       "    }\n",
       "\n",
       "    .dataframe thead th {\n",
       "        text-align: right;\n",
       "    }\n",
       "</style>\n",
       "<table border=\"1\" class=\"dataframe\">\n",
       "  <thead>\n",
       "    <tr style=\"text-align: right;\">\n",
       "      <th></th>\n",
       "      <th>Stock</th>\n",
       "      <th>Year</th>\n",
       "      <th>Quarter</th>\n",
       "      <th>Rolling_Return</th>\n",
       "      <th>Relative_Percentile</th>\n",
       "    </tr>\n",
       "  </thead>\n",
       "  <tbody>\n",
       "    <tr>\n",
       "      <th>0</th>\n",
       "      <td>APA</td>\n",
       "      <td>2000</td>\n",
       "      <td>1</td>\n",
       "      <td>324.227687</td>\n",
       "      <td>37.410549</td>\n",
       "    </tr>\n",
       "    <tr>\n",
       "      <th>1</th>\n",
       "      <td>MTCH</td>\n",
       "      <td>2000</td>\n",
       "      <td>1</td>\n",
       "      <td>130.616292</td>\n",
       "      <td>93.400477</td>\n",
       "    </tr>\n",
       "    <tr>\n",
       "      <th>2</th>\n",
       "      <td>GEN</td>\n",
       "      <td>2000</td>\n",
       "      <td>1</td>\n",
       "      <td>260.931868</td>\n",
       "      <td>97.097800</td>\n",
       "    </tr>\n",
       "    <tr>\n",
       "      <th>3</th>\n",
       "      <td>DXC</td>\n",
       "      <td>2000</td>\n",
       "      <td>1</td>\n",
       "      <td>-32.386061</td>\n",
       "      <td>91.730718</td>\n",
       "    </tr>\n",
       "    <tr>\n",
       "      <th>4</th>\n",
       "      <td>EG</td>\n",
       "      <td>2000</td>\n",
       "      <td>1</td>\n",
       "      <td>678.514299</td>\n",
       "      <td>99.098860</td>\n",
       "    </tr>\n",
       "  </tbody>\n",
       "</table>\n",
       "</div>"
      ],
      "text/plain": [
       "  Stock  Year  Quarter  Rolling_Return  Relative_Percentile\n",
       "0   APA  2000        1      324.227687            37.410549\n",
       "1  MTCH  2000        1      130.616292            93.400477\n",
       "2   GEN  2000        1      260.931868            97.097800\n",
       "3   DXC  2000        1      -32.386061            91.730718\n",
       "4    EG  2000        1      678.514299            99.098860"
      ]
     },
     "execution_count": 10,
     "metadata": {},
     "output_type": "execute_result"
    }
   ],
   "source": [
    "data_frame = pd.read_csv('datasets/fifteen_years_data_return.csv')\n",
    "data_frame = data_frame.dropna(axis=1)\n",
    "\n",
    "data_frame.head()"
   ]
  },
  {
   "cell_type": "code",
   "execution_count": 11,
   "id": "c4fb1bd4-7f9b-4563-a1d8-98a862b3613d",
   "metadata": {},
   "outputs": [],
   "source": [
    "data_frame['Annual_Rate'] = data_frame['Rolling_Return'].apply(\n",
    "    lambda x: get_positive_annual_rate(x, 15) if x > 0 else get_negative_annual_rate(x, 15)\n",
    ")\n",
    "\n",
    "data_frame.head()\n",
    "data_frame.to_csv('datasets/annual_rates/fifteen_years_annual_rate_data.csv', index=False) "
   ]
  }
 ],
 "metadata": {
  "kernelspec": {
   "display_name": "Python 3 (ipykernel)",
   "language": "python",
   "name": "python3"
  },
  "language_info": {
   "codemirror_mode": {
    "name": "ipython",
    "version": 3
   },
   "file_extension": ".py",
   "mimetype": "text/x-python",
   "name": "python",
   "nbconvert_exporter": "python",
   "pygments_lexer": "ipython3",
   "version": "3.9.9"
  }
 },
 "nbformat": 4,
 "nbformat_minor": 5
}
