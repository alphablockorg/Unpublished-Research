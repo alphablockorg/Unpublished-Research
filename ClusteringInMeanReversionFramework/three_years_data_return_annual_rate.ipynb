{
 "cells": [
  {
   "cell_type": "code",
   "execution_count": 7,
   "id": "5f76157e-d952-42ff-a5a9-4a99f8a88017",
   "metadata": {},
   "outputs": [],
   "source": [
    "import matplotlib.pyplot as plt\n",
    "import matplotlib.colors as mcolors\n",
    "import pandas as pd\n",
    "\n",
    "from scipy import stats\n",
    "from dependencies import get_positive_annual_rate, get_negative_annual_rate"
   ]
  },
  {
   "cell_type": "code",
   "execution_count": 8,
   "id": "a2c66e8b-052d-43e0-9c1c-c2a3a2d2f583",
   "metadata": {},
   "outputs": [
    {
     "data": {
      "text/html": [
       "<div>\n",
       "<style scoped>\n",
       "    .dataframe tbody tr th:only-of-type {\n",
       "        vertical-align: middle;\n",
       "    }\n",
       "\n",
       "    .dataframe tbody tr th {\n",
       "        vertical-align: top;\n",
       "    }\n",
       "\n",
       "    .dataframe thead th {\n",
       "        text-align: right;\n",
       "    }\n",
       "</style>\n",
       "<table border=\"1\" class=\"dataframe\">\n",
       "  <thead>\n",
       "    <tr style=\"text-align: right;\">\n",
       "      <th></th>\n",
       "      <th>Stock</th>\n",
       "      <th>Year</th>\n",
       "      <th>Quarter</th>\n",
       "      <th>Rolling_Return</th>\n",
       "      <th>Relative_Percentile</th>\n",
       "    </tr>\n",
       "  </thead>\n",
       "  <tbody>\n",
       "    <tr>\n",
       "      <th>0</th>\n",
       "      <td>APA</td>\n",
       "      <td>2000</td>\n",
       "      <td>1</td>\n",
       "      <td>83.704038</td>\n",
       "      <td>84.640957</td>\n",
       "    </tr>\n",
       "    <tr>\n",
       "      <th>1</th>\n",
       "      <td>MTCH</td>\n",
       "      <td>2000</td>\n",
       "      <td>1</td>\n",
       "      <td>-15.696557</td>\n",
       "      <td>48.138298</td>\n",
       "    </tr>\n",
       "    <tr>\n",
       "      <th>2</th>\n",
       "      <td>GEN</td>\n",
       "      <td>2000</td>\n",
       "      <td>1</td>\n",
       "      <td>42.452747</td>\n",
       "      <td>93.218085</td>\n",
       "    </tr>\n",
       "    <tr>\n",
       "      <th>3</th>\n",
       "      <td>DXC</td>\n",
       "      <td>2000</td>\n",
       "      <td>1</td>\n",
       "      <td>-63.056299</td>\n",
       "      <td>16.090426</td>\n",
       "    </tr>\n",
       "    <tr>\n",
       "      <th>4</th>\n",
       "      <td>EG</td>\n",
       "      <td>2000</td>\n",
       "      <td>1</td>\n",
       "      <td>152.799995</td>\n",
       "      <td>37.765957</td>\n",
       "    </tr>\n",
       "  </tbody>\n",
       "</table>\n",
       "</div>"
      ],
      "text/plain": [
       "  Stock  Year  Quarter  Rolling_Return  Relative_Percentile\n",
       "0   APA  2000        1       83.704038            84.640957\n",
       "1  MTCH  2000        1      -15.696557            48.138298\n",
       "2   GEN  2000        1       42.452747            93.218085\n",
       "3   DXC  2000        1      -63.056299            16.090426\n",
       "4    EG  2000        1      152.799995            37.765957"
      ]
     },
     "execution_count": 8,
     "metadata": {},
     "output_type": "execute_result"
    }
   ],
   "source": [
    "data_frame = pd.read_csv('datasets/three_years_data_return.csv')\n",
    "data_frame = data_frame.dropna(axis=1)\n",
    "\n",
    "data_frame.head()"
   ]
  },
  {
   "cell_type": "code",
   "execution_count": 9,
   "id": "ed72d2c6-3c9b-42fb-8f70-309c5ad0be05",
   "metadata": {},
   "outputs": [],
   "source": [
    "data_frame['Annual_Rate'] = data_frame['Rolling_Return'].apply(\n",
    "    lambda x: get_positive_annual_rate(x, 3) if x > 0 else get_negative_annual_rate(x, 3)\n",
    ")\n",
    "\n",
    "data_frame.head()\n",
    "data_frame.to_csv('datasets/annual_rates/three_years_annual_rate_data.csv', index=False) "
   ]
  },
  {
   "cell_type": "code",
   "execution_count": null,
   "id": "93b027ff-6a4e-4c31-9eed-4a3a65b7ef31",
   "metadata": {},
   "outputs": [],
   "source": []
  }
 ],
 "metadata": {
  "kernelspec": {
   "display_name": "Python 3 (ipykernel)",
   "language": "python",
   "name": "python3"
  },
  "language_info": {
   "codemirror_mode": {
    "name": "ipython",
    "version": 3
   },
   "file_extension": ".py",
   "mimetype": "text/x-python",
   "name": "python",
   "nbconvert_exporter": "python",
   "pygments_lexer": "ipython3",
   "version": "3.9.9"
  }
 },
 "nbformat": 4,
 "nbformat_minor": 5
}
